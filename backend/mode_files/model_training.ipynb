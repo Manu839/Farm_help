{
  "cells": [
    {
      "cell_type": "code",
      "execution_count": 1,
      "metadata": {
        "colab": {
          "base_uri": "https://localhost:8080/"
        },
        "id": "HFJYiM4Gvh9w",
        "outputId": "9fc56298-c813-4ac5-8207-6a2389b45b94"
      },
      "outputs": [
        {
          "name": "stdout",
          "output_type": "stream",
          "text": [
            "Collecting kaggle\n",
            "  Downloading kaggle-1.7.4.5-py3-none-any.whl.metadata (16 kB)\n",
            "Collecting bleach (from kaggle)\n",
            "  Downloading bleach-6.2.0-py3-none-any.whl.metadata (30 kB)\n",
            "Requirement already satisfied: certifi>=14.05.14 in c:\\users\\2003m\\appdata\\local\\programs\\python\\python310\\lib\\site-packages (from kaggle) (2024.7.4)\n",
            "Requirement already satisfied: charset-normalizer in c:\\users\\2003m\\appdata\\local\\programs\\python\\python310\\lib\\site-packages (from kaggle) (3.3.2)\n",
            "Requirement already satisfied: idna in c:\\users\\2003m\\appdata\\local\\programs\\python\\python310\\lib\\site-packages (from kaggle) (3.7)\n",
            "Requirement already satisfied: protobuf in c:\\users\\2003m\\appdata\\local\\programs\\python\\python310\\lib\\site-packages (from kaggle) (5.27.2)\n",
            "Requirement already satisfied: python-dateutil>=2.5.3 in c:\\users\\2003m\\appdata\\local\\programs\\python\\python310\\lib\\site-packages (from kaggle) (2.9.0.post0)\n",
            "Collecting python-slugify (from kaggle)\n",
            "  Downloading python_slugify-8.0.4-py2.py3-none-any.whl.metadata (8.5 kB)\n",
            "Requirement already satisfied: requests in c:\\users\\2003m\\appdata\\local\\programs\\python\\python310\\lib\\site-packages (from kaggle) (2.32.3)\n",
            "Requirement already satisfied: setuptools>=21.0.0 in c:\\users\\2003m\\appdata\\local\\programs\\python\\python310\\lib\\site-packages (from kaggle) (75.6.0)\n",
            "Requirement already satisfied: six>=1.10 in c:\\users\\2003m\\appdata\\roaming\\python\\python310\\site-packages (from kaggle) (1.16.0)\n",
            "Collecting text-unidecode (from kaggle)\n",
            "  Downloading text_unidecode-1.3-py2.py3-none-any.whl.metadata (2.4 kB)\n",
            "Requirement already satisfied: tqdm in c:\\users\\2003m\\appdata\\local\\programs\\python\\python310\\lib\\site-packages (from kaggle) (4.66.4)\n",
            "Requirement already satisfied: urllib3>=1.15.1 in c:\\users\\2003m\\appdata\\local\\programs\\python\\python310\\lib\\site-packages (from kaggle) (2.2.2)\n",
            "Requirement already satisfied: webencodings in c:\\users\\2003m\\appdata\\local\\programs\\python\\python310\\lib\\site-packages (from kaggle) (0.5.1)\n",
            "Requirement already satisfied: colorama in c:\\users\\2003m\\appdata\\roaming\\python\\python310\\site-packages (from tqdm->kaggle) (0.4.6)\n",
            "Downloading kaggle-1.7.4.5-py3-none-any.whl (181 kB)\n",
            "Downloading bleach-6.2.0-py3-none-any.whl (163 kB)\n",
            "Downloading python_slugify-8.0.4-py2.py3-none-any.whl (10 kB)\n",
            "Downloading text_unidecode-1.3-py2.py3-none-any.whl (78 kB)\n",
            "Installing collected packages: text-unidecode, python-slugify, bleach, kaggle\n",
            "\n",
            "   ---------- ----------------------------- 1/4 [python-slugify]\n",
            "   -------------------- ------------------- 2/4 [bleach]\n",
            "   -------------------- ------------------- 2/4 [bleach]\n",
            "   -------------------- ------------------- 2/4 [bleach]\n",
            "   -------------------- ------------------- 2/4 [bleach]\n",
            "   -------------------- ------------------- 2/4 [bleach]\n",
            "   -------------------- ------------------- 2/4 [bleach]\n",
            "   -------------------- ------------------- 2/4 [bleach]\n",
            "   ------------------------------ --------- 3/4 [kaggle]\n",
            "   ------------------------------ --------- 3/4 [kaggle]\n",
            "   ------------------------------ --------- 3/4 [kaggle]\n",
            "   ------------------------------ --------- 3/4 [kaggle]\n",
            "   ------------------------------ --------- 3/4 [kaggle]\n",
            "   ------------------------------ --------- 3/4 [kaggle]\n",
            "   ------------------------------ --------- 3/4 [kaggle]\n",
            "   ------------------------------ --------- 3/4 [kaggle]\n",
            "   ------------------------------ --------- 3/4 [kaggle]\n",
            "   ------------------------------ --------- 3/4 [kaggle]\n",
            "   ------------------------------ --------- 3/4 [kaggle]\n",
            "   ------------------------------ --------- 3/4 [kaggle]\n",
            "   ------------------------------ --------- 3/4 [kaggle]\n",
            "   ---------------------------------------- 4/4 [kaggle]\n",
            "\n",
            "Successfully installed bleach-6.2.0 kaggle-1.7.4.5 python-slugify-8.0.4 text-unidecode-1.3\n"
          ]
        },
        {
          "name": "stderr",
          "output_type": "stream",
          "text": [
            "WARNING: Error parsing dependencies of colab: Expected end or semicolon (after version specifier)\n",
            "    pytz>=2011n\n",
            "        ~~~~~~^\n"
          ]
        }
      ],
      "source": [
        "!pip install kaggle"
      ]
    },
    {
      "cell_type": "code",
      "execution_count": 2,
      "metadata": {
        "id": "JrCWAwoJydmx"
      },
      "outputs": [
        {
          "name": "stderr",
          "output_type": "stream",
          "text": [
            "The syntax of the command is incorrect.\n",
            "'mv' is not recognized as an internal or external command,\n",
            "operable program or batch file.\n",
            "'chmod' is not recognized as an internal or external command,\n",
            "operable program or batch file.\n"
          ]
        }
      ],
      "source": [
        "!mkdir -p ~/.kaggle\n",
        "!mv kaggle.json ~/.kaggle/\n",
        "!chmod 600 ~/.kaggle/kaggle.json"
      ]
    },
    {
      "cell_type": "code",
      "execution_count": 3,
      "metadata": {
        "colab": {
          "base_uri": "https://localhost:8080/"
        },
        "id": "c50-Fj-JzIjH",
        "outputId": "65ab115c-a829-476b-9f29-267fe7705c59"
      },
      "outputs": [
        {
          "name": "stderr",
          "output_type": "stream",
          "text": [
            "Traceback (most recent call last):\n",
            "  File \"C:\\Users\\2003m\\AppData\\Local\\Programs\\Python\\Python310\\lib\\runpy.py\", line 196, in _run_module_as_main\n",
            "    return _run_code(code, main_globals, None,\n",
            "  File \"C:\\Users\\2003m\\AppData\\Local\\Programs\\Python\\Python310\\lib\\runpy.py\", line 86, in _run_code\n",
            "    exec(code, run_globals)\n",
            "  File \"C:\\Users\\2003m\\AppData\\Local\\Programs\\Python\\Python310\\Scripts\\kaggle.exe\\__main__.py\", line 7, in <module>\n",
            "  File \"C:\\Users\\2003m\\AppData\\Local\\Programs\\Python\\Python310\\lib\\site-packages\\kaggle\\cli.py\", line 68, in main\n",
            "    out = args.func(**command_args)\n",
            "  File \"C:\\Users\\2003m\\AppData\\Local\\Programs\\Python\\Python310\\lib\\site-packages\\kaggle\\api\\kaggle_api_extended.py\", line 1741, in dataset_download_cli\n",
            "    with self.build_kaggle_client() as kaggle:\n",
            "  File \"C:\\Users\\2003m\\AppData\\Local\\Programs\\Python\\Python310\\lib\\site-packages\\kaggle\\api\\kaggle_api_extended.py\", line 688, in build_kaggle_client\n",
            "    username=self.config_values['username'],\n",
            "KeyError: 'username'\n"
          ]
        }
      ],
      "source": [
        "!kaggle datasets download -d emmarex/plantdisease"
      ]
    },
    {
      "cell_type": "code",
      "execution_count": 4,
      "metadata": {
        "colab": {
          "base_uri": "https://localhost:8080/"
        },
        "id": "J0BaxEPVzh_5",
        "outputId": "b7c172f6-6d66-49c8-8fa7-31b8d591dcae"
      },
      "outputs": [
        {
          "name": "stderr",
          "output_type": "stream",
          "text": [
            "'unzip' is not recognized as an internal or external command,\n",
            "operable program or batch file.\n"
          ]
        }
      ],
      "source": [
        "!unzip  plantdisease.zip"
      ]
    },
    {
      "cell_type": "code",
      "execution_count": null,
      "metadata": {
        "colab": {
          "base_uri": "https://localhost:8080/"
        },
        "id": "hhc2UE5tz3ZS",
        "outputId": "0e8292e6-c0b5-4913-e058-7c70c34ad5b9"
      },
      "outputs": [],
      "source": [
        "!pip install torch torchvision numpy matplotlib opencv-python pandas scikit-learn\n"
      ]
    },
    {
      "cell_type": "code",
      "execution_count": null,
      "metadata": {
        "colab": {
          "base_uri": "https://localhost:8080/"
        },
        "id": "kcy40Ha_0kLo",
        "outputId": "7470b01a-32bb-451e-d8c5-475fae1c10ca"
      },
      "outputs": [],
      "source": [
        "import torch\n",
        "import torchvision.transforms as transforms\n",
        "import torchvision.datasets as datasets\n",
        "from torch.utils.data import DataLoader\n",
        "\n",
        "transform = transforms.Compose([\n",
        "    transforms.Resize((128, 128)),\n",
        "        #Data augmentation\n",
        "    transforms.RandomRotation(20),  \n",
        "    transforms.RandomHorizontalFlip(p=0.5),  \n",
        "    transforms.RandomVerticalFlip(p=0.5),  \n",
        "    transforms.ColorJitter(brightness=0.2, contrast=0.2), \n",
        "    transforms.ToTensor(),\n",
        "    transforms.Normalize(mean=[0.5], std=[0.5])\n",
        "])\n",
        "\n",
        "data_dir = \"/content/PlantVillage\"\n",
        "\n",
        "dataset = datasets.ImageFolder(root=data_dir, transform=transform)\n",
        "\n",
        "#80% train, 20% test\n",
        "train_size = int(0.8 * len(dataset))\n",
        "test_size = len(dataset) - train_size\n",
        "train_dataset, test_dataset = torch.utils.data.random_split(dataset, [train_size, test_size])\n",
        "\n",
        "train_loader = DataLoader(train_dataset, batch_size=32, shuffle=True)\n",
        "test_loader = DataLoader(test_dataset, batch_size=32, shuffle=False)\n",
        "\n",
        "#class names\n",
        "classes = dataset.classes\n",
        "print(f\"Classes: {classes}\")\n",
        "\n",
        "print(f\"Number of classes: {len(classes)}\")\n",
        "\n"
      ]
    },
    {
      "cell_type": "code",
      "execution_count": null,
      "metadata": {
        "id": "mCgZpJhL178d"
      },
      "outputs": [],
      "source": [
        "import torch.nn as nn\n",
        "import torch.nn.functional as F\n",
        "\n",
        "class PlantDiseaseCNN(nn.Module):\n",
        "    def __init__(self, num_classes):\n",
        "        super(PlantDiseaseCNN, self).__init__()\n",
        "        self.conv1 = nn.Conv2d(3, 32, kernel_size=3, stride=1, padding=1)\n",
        "        self.conv2 = nn.Conv2d(32, 64, kernel_size=3, stride=1, padding=1)\n",
        "        self.conv3 = nn.Conv2d(64, 128, kernel_size=3, stride=1, padding=1)\n",
        "        self.pool = nn.MaxPool2d(kernel_size=2, stride=2, padding=0)\n",
        "        self.fc1 = nn.Linear(128 * 16 * 16, 256)\n",
        "        self.fc2 = nn.Linear(256, num_classes)\n",
        "\n",
        "    def forward(self, x):\n",
        "        x = self.pool(F.relu(self.conv1(x)))\n",
        "        x = self.pool(F.relu(self.conv2(x)))\n",
        "        x = self.pool(F.relu(self.conv3(x)))\n",
        "        x = x.view(x.shape[0], -1)\n",
        "        x = F.relu(self.fc1(x))\n",
        "        x = self.fc2(x)\n",
        "        return x\n",
        "\n",
        "# Initializing model\n",
        "num_classes = len(classes)\n",
        "model = PlantDiseaseCNN(num_classes)\n",
        "\n",
        "# Moving model to GPU if available\n",
        "device = torch.device(\"cuda\" if torch.cuda.is_available() else \"cpu\")\n",
        "model = model.to(device)\n",
        "\n"
      ]
    },
    {
      "cell_type": "code",
      "execution_count": null,
      "metadata": {
        "id": "jWieqVNP2CNN"
      },
      "outputs": [],
      "source": [
        "\n",
        "\n",
        "import torch.optim as optim\n",
        "\n",
        "criterion = nn.CrossEntropyLoss()\n",
        "optimizer = optim.Adam(model.parameters(), lr=0.001)\n"
      ]
    },
    {
      "cell_type": "code",
      "execution_count": null,
      "metadata": {
        "colab": {
          "base_uri": "https://localhost:8080/"
        },
        "id": "UloZDEHk2SgM",
        "outputId": "c3ea4c0e-c3ba-4d3d-9fa2-27d5b4b65a04"
      },
      "outputs": [],
      "source": [
        "num_epochs = 15\n",
        "\n",
        "for epoch in range(num_epochs):\n",
        "    model.train()\n",
        "    running_loss = 0.0\n",
        "    correct = 0\n",
        "    total = 0\n",
        "\n",
        "    for images, labels in train_loader:\n",
        "        images, labels = images.to(device), labels.to(device)\n",
        "\n",
        "        optimizer.zero_grad()\n",
        "        outputs = model(images)\n",
        "        loss = criterion(outputs, labels)\n",
        "        loss.backward()\n",
        "        optimizer.step()\n",
        "\n",
        "        running_loss += loss.item()\n",
        "        _, predicted = torch.max(outputs, 1)\n",
        "        correct += (predicted == labels).sum().item()\n",
        "        total += labels.size(0)\n",
        "\n",
        "    accuracy = 100 * correct / total\n",
        "    print(f\"Epoch {epoch+1}/{num_epochs}, Loss: {running_loss:.4f}, Accuracy: {accuracy:.2f}%\")\n"
      ]
    },
    {
      "cell_type": "code",
      "execution_count": null,
      "metadata": {
        "colab": {
          "base_uri": "https://localhost:8080/"
        },
        "id": "UtkCLMgn8uuQ",
        "outputId": "8dfcc5c1-bfb3-48d7-ba15-658a7cbf14e2"
      },
      "outputs": [],
      "source": [
        "model.eval()\n",
        "correct = 0\n",
        "total = 0\n",
        "\n",
        "with torch.no_grad():\n",
        "    for images, labels in test_loader:\n",
        "        images, labels = images.to(device), labels.to(device)\n",
        "        outputs = model(images)\n",
        "        _, predicted = torch.max(outputs, 1)\n",
        "        correct += (predicted == labels).sum().item()\n",
        "        total += labels.size(0)\n",
        "\n",
        "accuracy = 100 * correct / total\n",
        "print(f\"Test Accuracy: {accuracy:.2f}%\")\n"
      ]
    },
    {
      "cell_type": "code",
      "execution_count": null,
      "metadata": {
        "colab": {
          "base_uri": "https://localhost:8080/"
        },
        "id": "nkDH_svP-JAM",
        "outputId": "851c2bdc-1ee4-4f45-addb-e7b29b2a634b"
      },
      "outputs": [],
      "source": [
        "model_path = \"/content/plant_disease_cnnda.pth\"\n",
        "torch.save(model.state_dict(), model_path)\n",
        "print(f\"Model saved to {model_path}!\")"
      ]
    },
    {
      "cell_type": "code",
      "execution_count": null,
      "metadata": {
        "colab": {
          "base_uri": "https://localhost:8080/"
        },
        "id": "6RwgXH9C-mHM",
        "outputId": "ca4b9d2d-15cd-45d0-8404-164560807b20"
      },
      "outputs": [],
      "source": [
        "import torch\n",
        "import torchvision.transforms as transforms\n",
        "from PIL import Image\n",
        "\n",
        "transform = transforms.Compose([\n",
        "    transforms.Resize((128, 128)),\n",
        "        # Data Augmentation\n",
        "    transforms.RandomRotation(20),  \n",
        "    transforms.RandomHorizontalFlip(p=0.5),  \n",
        "    transforms.RandomVerticalFlip(p=0.5),  \n",
        "    transforms.ColorJitter(brightness=0.2, contrast=0.2),  \n",
        "    transforms.ToTensor(),\n",
        "    transforms.Normalize(mean=[0.5], std=[0.5])\n",
        "])\n",
        "\n",
        "# Loading the trained model\n",
        "model_path = \"/content/plant_disease_cnnda.pth\"\n",
        "model = PlantDiseaseCNN(num_classes)\n",
        "model.load_state_dict(torch.load(model_path, map_location=torch.device(\"cuda\" if torch.cuda.is_available() else \"cpu\")))\n",
        "model.eval()  \n"
      ]
    },
    {
      "cell_type": "code",
      "execution_count": null,
      "metadata": {
        "colab": {
          "base_uri": "https://localhost:8080/"
        },
        "id": "kq34VZ-P-rxa",
        "outputId": "a0801613-f011-4f00-e934-8ed1014f467f"
      },
      "outputs": [],
      "source": [
        "from PIL import Image\n",
        "\n",
        "# Loading the model\n",
        "model = PlantDiseaseCNN(num_classes)\n",
        "model.load_state_dict(torch.load(model_path, map_location=device))\n",
        "model.eval()\n",
        "model.to(device)\n",
        "\n",
        "def predict(image_path):\n",
        "    image = Image.open(image_path).convert(\"RGB\")\n",
        "    image = transform(image).unsqueeze(0).to(device)\n",
        "\n",
        "    with torch.no_grad():\n",
        "        output = model(image)\n",
        "        _, predicted = torch.max(output, 1)\n",
        "\n",
        "    return classes[predicted.item()]\n",
        "\n",
        "\n",
        "print(predict(\"/content/plantvillage/PlantVillage/Pepper__bell___Bacterial_spot/0022d6b7-d47c-4ee2-ae9a-392a53f48647___JR_B.Spot 8964.JPG\"))"
      ]
    },
    {
      "cell_type": "markdown",
      "metadata": {},
      "source": []
    }
  ],
  "metadata": {
    "accelerator": "GPU",
    "colab": {
      "gpuType": "T4",
      "provenance": []
    },
    "kernelspec": {
      "display_name": "Python 3",
      "name": "python3"
    },
    "language_info": {
      "codemirror_mode": {
        "name": "ipython",
        "version": 3
      },
      "file_extension": ".py",
      "mimetype": "text/x-python",
      "name": "python",
      "nbconvert_exporter": "python",
      "pygments_lexer": "ipython3",
      "version": "3.10.11"
    }
  },
  "nbformat": 4,
  "nbformat_minor": 0
}
