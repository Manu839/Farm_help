{
 "cells": [
  {
   "cell_type": "code",
   "execution_count": null,
   "id": "5516fcde",
   "metadata": {},
   "outputs": [],
   "source": [
    "import pandas as pd\n",
    "import os\n",
    "import joblib\n",
    "from sklearn.ensemble import RandomForestClassifier\n",
    "from sklearn.preprocessing import LabelEncoder\n"
   ]
  },
  {
   "cell_type": "code",
   "execution_count": null,
   "id": "b38f26e3",
   "metadata": {},
   "outputs": [],
   "source": [
    "# Load the dataset\n",
    "df = pd.read_csv(\"Fertilizer Prediction.csv\")\n",
    "df.head()\n"
   ]
  },
  {
   "cell_type": "code",
   "execution_count": null,
   "id": "5e12807a",
   "metadata": {},
   "outputs": [],
   "source": [
    "# Clean column names\n",
    "df.rename(columns=lambda x: x.strip(), inplace=True)\n",
    "\n",
    "# Encode categorical variables\n",
    "le_soil = LabelEncoder()\n",
    "le_crop = LabelEncoder()\n",
    "df[\"Soil Type\"] = le_soil.fit_transform(df[\"Soil Type\"])\n",
    "df[\"Crop Type\"] = le_crop.fit_transform(df[\"Crop Type\"])\n",
    "\n",
    "# Save encoders\n",
    "os.makedirs(\"model_files\", exist_ok=True)\n",
    "joblib.dump(le_soil, \"model_files/soil_encoder.pkl\")\n",
    "joblib.dump(le_crop, \"model_files/crop_encoder.pkl\")\n"
   ]
  },
  {
   "cell_type": "code",
   "execution_count": null,
   "id": "dea8c50f",
   "metadata": {},
   "outputs": [],
   "source": [
    "# Separate features and label\n",
    "X = df.drop(columns=[\"Fertilizer Name\"])\n",
    "y = df[\"Fertilizer Name\"]\n",
    "\n",
    "# Train RandomForest model\n",
    "model = RandomForestClassifier(n_estimators=100, random_state=42)\n",
    "model.fit(X, y)\n",
    "\n",
    "# Save the model\n",
    "joblib.dump(model, \"model_files/FertilizerRecommendation.pkl\")\n",
    "print(\"Model training complete and saved.\")\n"
   ]
  }
 ],
 "metadata": {},
 "nbformat": 4,
 "nbformat_minor": 5
}
